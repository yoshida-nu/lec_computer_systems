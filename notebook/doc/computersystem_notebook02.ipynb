{
 "cells": [
  {
   "cell_type": "markdown",
   "metadata": {},
   "source": [
    "## for文による繰り返し\n",
    "*  `for`の直後に半角スペースを入れたあと，繰り返しの処理の中で用いる変数を記述\n",
    "*  その変数の直後に半角スペースを入れたあと，`in`と記述\n",
    "*  `in`の直後に半角スペースを入れたあと，特定の範囲の数値を指定できる`range`関数やリストを記述し，最後にコロン`:`を入れる\n",
    "*  各繰り返しで，`in`の直後で指定した`range`関数やリストの要素が順番に1つずつ変数に格納される\n",
    "*  取り出す要素がなくなったら繰り返しを終了する\n",
    "*  `range`関数の基本形： `range(開始番号, 終了番号+1)`\n",
    "*  `range`関数の例：\n",
    ">* `range(1, 6)` ⇒ `1, 2, 3, 4, 5`\n",
    ">* `range(3, 7)` ⇒ `3, 4, 5, 6`\n",
    "\n",
    "---\n",
    "書式:  \n",
    "```\n",
    "for 変数 in range関数や配列:\n",
    "\t処理\n",
    "```\n",
    "---\n",
    "\n",
    "* 擬似言語との違いに注意する\n",
    "* Pythonでは...\n",
    ">* 制御記述の後にコロン「`:`」を付ける\n",
    ">* 「`endfor`」は記述しない\n",
    "\n",
    "<img src=\"./fig/pseudolanguage_vs_python_for.jpg\" width=\"500\">"
   ]
  },
  {
   "cell_type": "markdown",
   "metadata": {},
   "source": [
    "### 繰り返しのコード例 その1\n",
    "* 「`i in range(a, b)`」の意味 ⇒「`i` を `a` から `b-1` まで `1` ずつ増やす」 \n",
    "* 「`i, end=\" \"`」の意味 ⇒「`i` のうしろに空白を入れる」\n",
    "\n",
    "<img src=\"./fig/python_code_sample_for1.jpg\" width=\"220\">"
   ]
  },
  {
   "cell_type": "code",
   "execution_count": null,
   "metadata": {},
   "outputs": [
    {
     "name": "stdout",
     "output_type": "stream",
     "text": [
      "1 2 3 4 5 "
     ]
    }
   ],
   "source": [
    "for i in range(1, 6):\n",
    "\tprint(i, end=\" \")"
   ]
  },
  {
   "cell_type": "markdown",
   "metadata": {},
   "source": [
    "### 繰り返しのコード例 その2\n",
    "<img src=\"./fig/python_code_sample_for2.jpg\" width=\"250\">"
   ]
  },
  {
   "cell_type": "code",
   "execution_count": null,
   "metadata": {},
   "outputs": [
    {
     "name": "stdout",
     "output_type": "stream",
     "text": [
      "65 82 73 91 76 "
     ]
    }
   ],
   "source": [
    "score = [65, 82, 73, 91, 76]\n",
    "for i in range(0, 5):\n",
    "\tprint(score[i], end=\" \")"
   ]
  },
  {
   "cell_type": "markdown",
   "metadata": {},
   "source": [
    "# `while`文を使った繰り返し\n",
    "*  `while`の直後に半角スペースを入れたあと，繰り返し処理の条件式を記述して，最後にコロン`:`を入れる\n",
    "*  条件式のデータ型は`if`文と同様にboolとなる\n",
    "*  条件式が `True`（真） である間，`while`ブロック内の処理を繰り返す\n",
    "*  ブロックの意味は`if`文と同じ\n",
    "*  条件式が `False`（偽）になったら繰り返しが終わる ⇒ `while`ブロック直後の処理へ\n",
    "\n",
    "<img src=\"./fig/while.png\" width=\"250\">\n",
    "\n",
    "---\n",
    "書式:  \n",
    "```\n",
    "while 条件式:\n",
    "\t処理\n",
    "```\n",
    "---\n",
    "\n",
    "* 擬似言語との違いに注意する\n",
    "* Pythonでは...\n",
    ">* 制御記述の後にコロン「`:`」を付ける\n",
    ">* 「`endwhile`」は記述しない\n",
    ">* `do`～`while`の構造はない\n",
    "\n",
    "<img src=\"./fig/pseudolanguage_vs_python_while.jpg\" width=\"500\">"
   ]
  },
  {
   "cell_type": "markdown",
   "metadata": {},
   "source": [
    "## ユークリッドの互除法\n",
    "<img src=\"./fig/Euclid's_mutual_division_method.jpg\" width=\"150\">"
   ]
  },
  {
   "cell_type": "code",
   "execution_count": 1,
   "metadata": {},
   "outputs": [
    {
     "name": "stdout",
     "output_type": "stream",
     "text": [
      "3\n"
     ]
    }
   ],
   "source": [
    "p = 9\n",
    "q = 6\n",
    "while q != 0:\n",
    "    r = p % q\n",
    "    p = q\n",
    "    q = r\n",
    "print(p)"
   ]
  },
  {
   "cell_type": "markdown",
   "metadata": {},
   "source": [
    "# 関数\n",
    "* 関数を使うことで，複数行の処理をひとまとめにすることができる⇒コードが読みやすくなる\n",
    "* Pythonにはあらかじめ様々な関数が用意されている⇒組み込み関数と呼ぶ\n",
    "* 組み込み関数の例: `print` や `type` など\n",
    "* 関数は自分で自由に作る（定義する）ことができる"
   ]
  },
  {
   "cell_type": "markdown",
   "metadata": {
    "id": "cmNCzFlF-S6B"
   },
   "source": [
    "## 関数に関する用語の定義\n",
    "* 関数に引き渡すデータのことを**引数**と呼ぶ\n",
    "* 関数を使うことを**呼び出す**という\n",
    "* 関数が返す値（出力）を**戻り値**と呼ぶ\n",
    "\n",
    "戻り値はデータなので変数に格納することができる．"
   ]
  },
  {
   "cell_type": "markdown",
   "metadata": {
    "id": "PzGNe-8t8e4t"
   },
   "source": [
    "## 引数と戻り値が共にない関数\n",
    "引数がない関数を呼び出すときは，括弧`()`内に何も記述しない．  \n",
    "ただし，括弧`()`は必ず記述する．\n",
    "\n",
    "<img src=\"./fig/pseudolanguage_vs_python_function1.jpg\" width=\"500\">"
   ]
  },
  {
   "cell_type": "code",
   "execution_count": null,
   "metadata": {
    "colab": {
     "base_uri": "https://localhost:8080/"
    },
    "executionInfo": {
     "elapsed": 4,
     "status": "ok",
     "timestamp": 1709202454703,
     "user": {
      "displayName": "Takahiro YOSHIDA",
      "userId": "00096252480874798687"
     },
     "user_tz": -540
    },
    "id": "MJKH3vylZgzK",
    "outputId": "82741d32-e9f0-480f-ca87-452a06aa3788"
   },
   "outputs": [
    {
     "name": "stdout",
     "output_type": "stream",
     "text": [
      "こんにちは\n"
     ]
    }
   ],
   "source": [
    "#関数の定義\n",
    "def say_hello():\n",
    "    print(\"こんにちは\")\n",
    "\n",
    "#関数の呼び出し\n",
    "say_hello()"
   ]
  },
  {
   "cell_type": "markdown",
   "metadata": {
    "id": "ibgZt4WrHBwB"
   },
   "source": [
    "## 引数がない（戻り値だけある）関数\n",
    "<img src=\"./fig/pseudolanguage_vs_python_function2.jpg\" width=\"500\">"
   ]
  },
  {
   "cell_type": "code",
   "execution_count": null,
   "metadata": {
    "colab": {
     "base_uri": "https://localhost:8080/"
    },
    "executionInfo": {
     "elapsed": 336,
     "status": "ok",
     "timestamp": 1709203154304,
     "user": {
      "displayName": "Takahiro YOSHIDA",
      "userId": "00096252480874798687"
     },
     "user_tz": -540
    },
    "id": "4-HF_rCeaFrH",
    "outputId": "086ef169-5b5a-4df0-82e9-3512b5982eaf"
   },
   "outputs": [
    {
     "name": "stdout",
     "output_type": "stream",
     "text": [
      "こんにちは\n"
     ]
    }
   ],
   "source": [
    "def say_hello():\n",
    "    return \"こんにちは\"\n",
    "\n",
    "result = say_hello()\n",
    "print(result)"
   ]
  },
  {
   "cell_type": "markdown",
   "metadata": {
    "id": "D3OM40TjaYP2"
   },
   "source": [
    "## 戻り値がない（引数だけある）関数\n",
    "<img src=\"./fig/pseudolanguage_vs_python_function3.jpg\" width=\"500\">"
   ]
  },
  {
   "cell_type": "code",
   "execution_count": 2,
   "metadata": {
    "colab": {
     "base_uri": "https://localhost:8080/"
    },
    "executionInfo": {
     "elapsed": 6,
     "status": "ok",
     "timestamp": 1709254430383,
     "user": {
      "displayName": "Takahiro YOSHIDA",
      "userId": "00096252480874798687"
     },
     "user_tz": -540
    },
    "id": "dhp85a4Jabri",
    "outputId": "2eea3f48-cdfa-4620-dac9-923ae9706f89"
   },
   "outputs": [
    {
     "name": "stdout",
     "output_type": "stream",
     "text": [
      "3\n"
     ]
    }
   ],
   "source": [
    "def calc_sum(x, y):\n",
    "    print(x + y)\n",
    "\n",
    "calc_sum(1, 2)"
   ]
  },
  {
   "cell_type": "markdown",
   "metadata": {
    "id": "iDE9fjQ5axWb"
   },
   "source": [
    "## 引数も戻り値もある関数\n",
    "<img src=\"./fig/pseudolanguage_vs_python_function4.jpg\" width=\"500\">"
   ]
  },
  {
   "cell_type": "code",
   "execution_count": null,
   "metadata": {
    "colab": {
     "base_uri": "https://localhost:8080/"
    },
    "executionInfo": {
     "elapsed": 303,
     "status": "ok",
     "timestamp": 1709203157249,
     "user": {
      "displayName": "Takahiro YOSHIDA",
      "userId": "00096252480874798687"
     },
     "user_tz": -540
    },
    "id": "EDI36mZXaz-b",
    "outputId": "4c998911-406c-4f16-8941-948749015e63"
   },
   "outputs": [
    {
     "name": "stdout",
     "output_type": "stream",
     "text": [
      "3\n"
     ]
    }
   ],
   "source": [
    "def calc_sum(x, y):\n",
    "    return x + y\n",
    "\n",
    "result = calc_sum(1, 2)\n",
    "print(result)"
   ]
  },
  {
   "cell_type": "markdown",
   "metadata": {
    "id": "lIKrDVa-bHjk"
   },
   "source": [
    "# 探索アルゴリズム\n",
    "詳細な説明は省略するが，以下のコードで各探索アルゴリズムを実現できる．  \n",
    "なお，本講義において，以下のコードの理解は必須とはしない．\n"
   ]
  },
  {
   "cell_type": "markdown",
   "metadata": {
    "id": "TvgrkQGBQbXC"
   },
   "source": [
    "## 線形探索アルゴリズム\n",
    "線形探索アルゴリズムを関数「`linear_search`」として定義する．  \n",
    "`linear_search`関数には，探索対象のリスト（`data`）と探索する値（`x`）の2つを引数として渡す．"
   ]
  },
  {
   "cell_type": "code",
   "execution_count": null,
   "metadata": {
    "colab": {
     "base_uri": "https://localhost:8080/"
    },
    "executionInfo": {
     "elapsed": 3,
     "status": "ok",
     "timestamp": 1709203538349,
     "user": {
      "displayName": "Takahiro YOSHIDA",
      "userId": "00096252480874798687"
     },
     "user_tz": -540
    },
    "id": "HtUo0WWghs1c",
    "outputId": "f4e51eac-e384-412a-9f03-8c67e2419aa3"
   },
   "outputs": [
    {
     "name": "stdout",
     "output_type": "stream",
     "text": [
      "3\n"
     ]
    }
   ],
   "source": [
    "def linear_search(data, x):\n",
    "    for i in range(len(data)):\n",
    "        if data[i] == x:\n",
    "            return i\n",
    "    return -1\n",
    "\n",
    "result = linear_search([6, 5, 9, 2, 4, 1], 2)\n",
    "print(result)"
   ]
  },
  {
   "cell_type": "markdown",
   "metadata": {
    "id": "fCnLdnr5xy05"
   },
   "source": [
    "## 二分探索アルゴリズム\n",
    "二分探索アルゴリズムを関数「`binary_search`」として定義する．  \n",
    "`binary_search`関数には，探索対象のリスト（`data`）と探索する値（`x`）の2つを引数として渡す．"
   ]
  },
  {
   "cell_type": "code",
   "execution_count": null,
   "metadata": {
    "colab": {
     "base_uri": "https://localhost:8080/"
    },
    "executionInfo": {
     "elapsed": 6,
     "status": "ok",
     "timestamp": 1709203540570,
     "user": {
      "displayName": "Takahiro YOSHIDA",
      "userId": "00096252480874798687"
     },
     "user_tz": -540
    },
    "id": "wg2OFpYkZArV",
    "outputId": "5d49a1c6-fcd6-47cd-c190-7dd1ae94dda0"
   },
   "outputs": [
    {
     "name": "stdout",
     "output_type": "stream",
     "text": [
      "1\n"
     ]
    }
   ],
   "source": [
    "def binary_search(data, x):\n",
    "    h = 0\n",
    "    t = len(data) - 1\n",
    "    while h <= t:\n",
    "        m = (h + t) // 2\n",
    "        if data[m] == x:\n",
    "            return m\n",
    "        elif data[m] < x:\n",
    "            h = m + 1\n",
    "        else:\n",
    "            t = m - 1\n",
    "    return -1\n",
    "\n",
    "result = binary_search([1, 2, 4, 5, 6, 9], 2)\n",
    "print(result)"
   ]
  },
  {
   "cell_type": "markdown",
   "metadata": {
    "id": "CzfTNzLMbjKp"
   },
   "source": [
    "# ソートアルゴリズム\n",
    "詳細な説明は省略するが，以下のコードで各ソートアルゴリズムを実現できる．  \n",
    "なお，本講義において，以下のコードの理解は必須とはしない．"
   ]
  },
  {
   "cell_type": "markdown",
   "metadata": {
    "id": "imkjlTVB913E"
   },
   "source": [
    "## 選択ソート\n",
    "ソート対象のリストを引数とした`select_sort`関数を定義する．  \n",
    "`select_sort`関数はソート後のリストを戻り値としている．"
   ]
  },
  {
   "cell_type": "code",
   "execution_count": null,
   "metadata": {
    "colab": {
     "base_uri": "https://localhost:8080/"
    },
    "executionInfo": {
     "elapsed": 7,
     "status": "ok",
     "timestamp": 1709203506521,
     "user": {
      "displayName": "Takahiro YOSHIDA",
      "userId": "00096252480874798687"
     },
     "user_tz": -540
    },
    "id": "xLmviGJ78Cgg",
    "outputId": "351647ec-39de-4763-cef4-3ca4fb1e3791"
   },
   "outputs": [
    {
     "name": "stdout",
     "output_type": "stream",
     "text": [
      "[2, 4, 5, 6, 9]\n"
     ]
    }
   ],
   "source": [
    "def select_sort(data):\n",
    "    n = len(data)\n",
    "    for i in range(0, n-1):\n",
    "        m = i\n",
    "        for j in range(i+1, n):\n",
    "            if data[j] < data[m]:\n",
    "                m = j\n",
    "        data[i], data[m] = data[m], data[i]\n",
    "    return data\n",
    "\n",
    "result = select_sort([6, 5, 9, 2, 4])\n",
    "print(result)"
   ]
  },
  {
   "cell_type": "markdown",
   "metadata": {
    "id": "l2zxglSHDp-b"
   },
   "source": [
    "## バブルソート\n",
    "ソート対象のリストを引数とした`bubble_sort`関数を定義する．  \n",
    "`bubble_sort`関数はソート後のリストを戻り値としている．"
   ]
  },
  {
   "cell_type": "code",
   "execution_count": null,
   "metadata": {
    "colab": {
     "base_uri": "https://localhost:8080/"
    },
    "executionInfo": {
     "elapsed": 2,
     "status": "ok",
     "timestamp": 1709203498656,
     "user": {
      "displayName": "Takahiro YOSHIDA",
      "userId": "00096252480874798687"
     },
     "user_tz": -540
    },
    "id": "ev_F95MtDrq-",
    "outputId": "22151ef8-c8fb-495c-cf73-5f8cc3b9988a"
   },
   "outputs": [
    {
     "name": "stdout",
     "output_type": "stream",
     "text": [
      "[2, 4, 5, 6, 9]\n"
     ]
    }
   ],
   "source": [
    "def bubble_sort(data):\n",
    "    n = len(data)\n",
    "    for i in range(0, n-1):\n",
    "        for j in range(n-1, i, -1):\n",
    "            if data[j-1] > data[j]:\n",
    "                data[j], data[j-1] = data[j-1], data[j]\n",
    "    return data\n",
    "\n",
    "result = bubble_sort([6, 5, 9, 2, 4])\n",
    "print(result)"
   ]
  },
  {
   "cell_type": "markdown",
   "metadata": {
    "id": "8RyOwQxSI-PD"
   },
   "source": [
    "## 挿入ソート\n",
    "ソート対象のリストを引数とした`insert_sort`関数を定義する．  \n",
    "`insert_sort`関数はソート後のリストを戻り値としている．"
   ]
  },
  {
   "cell_type": "code",
   "execution_count": null,
   "metadata": {
    "colab": {
     "base_uri": "https://localhost:8080/"
    },
    "executionInfo": {
     "elapsed": 420,
     "status": "ok",
     "timestamp": 1709203472296,
     "user": {
      "displayName": "Takahiro YOSHIDA",
      "userId": "00096252480874798687"
     },
     "user_tz": -540
    },
    "id": "POsaBnZ9JASa",
    "outputId": "7fe543c6-a559-426b-d793-fe95589e1494"
   },
   "outputs": [
    {
     "name": "stdout",
     "output_type": "stream",
     "text": [
      "[2, 4, 5, 6, 9]\n"
     ]
    }
   ],
   "source": [
    "def insert_sort(data):\n",
    "    n = len(data)\n",
    "    for i in range(1, n):\n",
    "        tmp = data[i]\n",
    "        for j in range(i, 0, -1):\n",
    "            if data[j-1] > tmp:\n",
    "                data[j-1], data[j] = tmp, data[j-1]\n",
    "            else:\n",
    "                break\n",
    "    return data\n",
    "\n",
    "result = insert_sort([6, 5, 9, 2, 4])\n",
    "print(result)"
   ]
  }
 ],
 "metadata": {
  "colab": {
   "provenance": []
  },
  "kernelspec": {
   "display_name": "pythonv311",
   "language": "python",
   "name": "python3"
  },
  "language_info": {
   "codemirror_mode": {
    "name": "ipython",
    "version": 3
   },
   "file_extension": ".py",
   "mimetype": "text/x-python",
   "name": "python",
   "nbconvert_exporter": "python",
   "pygments_lexer": "ipython3",
   "version": "3.11.5"
  }
 },
 "nbformat": 4,
 "nbformat_minor": 1
}
