{
 "cells": [
  {
   "cell_type": "markdown",
   "metadata": {
    "id": "9b642dRi97L9"
   },
   "source": [
    "# Google Colaboratoryとは\n",
    "\n",
    "*  Google Colaboratory（本講義では，Colaboratory または Colab と呼ぶこともある）は，クラウド上で Pythonのプログラミング環境（細かく言うと [Jupyter Notebook](https://jupyter.org/) 環境）を提供する Google のウェブサービスの一つ\n",
    "*  ブラウザとGoogleのアカウントがあれば，制限はあるが誰でも無料で利用できる\n",
    "*  本講義では，[Google Chrome](https://www.google.com/intl/ja_jp/chrome/) をブラウザとして利用する\n",
    "*  Colab は「ノートブック」と呼ばれるファイルを使ってプログラミングを行う"
   ]
  },
  {
   "cell_type": "markdown",
   "metadata": {
    "id": "RoxlZXULSAR6"
   },
   "source": [
    "# ノートブックの基本構成\n",
    "![ノートブック名](./fig/01_notebook_name.png)  \n",
    "  \n",
    "*  ノートブックの左上方（上図の赤枠部）には，ノートブック名が表示されている\n",
    "*  ノートブック名は任意の名前に変更することができる\n",
    "*  ノートブック名の下には「ファイル」や「編集」などのメニューがある\n",
    "*  さらに，その下には「+ コード」と「+ テキスト」というボタンがある\n",
    "*  ノートブックの詳細については，本ノートブック末尾の参考資料などを参照する"
   ]
  },
  {
   "cell_type": "markdown",
   "metadata": {
    "id": "v2czOonKS7Op"
   },
   "source": [
    "# ノートブックのコピー\n",
    "*  メニュー下の「ドライブにコピー」をクリックすると，ノートブックを複製（コピー）できる\n",
    "*  または，メニュー「ファイル」⇒「ドライブにコピーを保存」で複製（コピー）できる\n",
    "*  Classroom から提供するノートブックは，表示したら必ずコピーすること（コピーしないとノートブックの内容を変更することができない）\n",
    "*  コピーされたノートブックは，Googleドライブ（マイドライブ > Colab notebooks）の中に保存される"
   ]
  },
  {
   "cell_type": "markdown",
   "metadata": {},
   "source": [
    "# ノートブック名\n",
    "*  ノートブック名は任意の名前に変更することができる\n",
    "*  コピーしたノートブックの名前は特に指定がなければ自由につけかえてよい\n",
    "*  ただし，本講義では課題などでノートブック名の書式を指定する場合があるので注意する"
   ]
  },
  {
   "cell_type": "markdown",
   "metadata": {},
   "source": [
    "# セルの基本操作\n",
    "*    ノートブックは複数の「セル」と呼ばれるブロックで構成される\n",
    "*    セルには「コードセル」と「テキストセル」の2種類がある \n",
    "*    セルの上のどこかをクリックすると，そのセルを選択することができる\n",
    "*    コードセルには，Pythonでコードを記述する\n",
    "*    テキストセルには，Markdown（文章を記述するためのマークアップ言語）を使った普通の文書（テキスト，見出し，箇条書き等）が記述できる\n",
    "*    テキストセルの上をダブルクリックすると，そのテキストセルの内容が編集可能となる\n",
    "*    本講義では，Markdown については特に扱わないが，例えば，以下のURLなどに簡単な説明がある  \n",
    ">https://colab.research.google.com/notebooks/markdown_guide.ipynb\n",
    "*    セルの追加はノートブック上部の[＋コード]と[＋テキスト]をクリック（他のやり方もあるので自分で調べてみる or 試してみる）\n",
    "*    セルの削除は，削除するセルを選択してから，ごみ箱アイコンをクリック（他のやり方もあるので自分で調べてみる or 試してみる）\n",
    "*    セル内のテキストの編集において，よく使うショートカットキーには，以下のようなものがある\n",
    ">*  `[Ctrl] + [C]`: テキストのコピー\n",
    ">*  `[Ctrl] + [X]`: テキストの切り取り\n",
    ">*  `[Ctrl] + [V]`: テキストの貼り付け\n",
    ">*  `[Ctrl] + [Z]`: 元に戻す"
   ]
  },
  {
   "cell_type": "markdown",
   "metadata": {},
   "source": [
    "# コードの実行\n",
    "*   コードセルに記述したPythonのコードは， `[Ctrl] + [Enter]` で実行できる（他のやり方もあるので自分で調べてみる or 試してみる）\n",
    "*   試しに以下のコードを実行してみる\n",
    "*   コードの意味については後述（今は気にしなくてよい）"
   ]
  },
  {
   "cell_type": "code",
   "execution_count": 1,
   "metadata": {
    "id": "Vxya914GRpE0"
   },
   "outputs": [
    {
     "name": "stdout",
     "output_type": "stream",
     "text": [
      "Hello World!\n"
     ]
    }
   ],
   "source": [
    "print('Hello World!')"
   ]
  },
  {
   "cell_type": "markdown",
   "metadata": {
    "id": "owvCejc_T-CA"
   },
   "source": [
    "## コメント\n",
    "*  コードセルにおいて，半角「`#`」から始まる行はコメント（メモ）になる\n",
    "*  「`#`」以降，その行の終わりまでがコメントになる\n",
    "*  コメントは行頭からでも，行の途中からでも始めることができる\n",
    "*  後でコードを読み返す時や，他の人がコードをみた時などにおいて，そのコードがどのような処理をしているかといった補足説明のために使う\n",
    "*  また，コードの特定箇所の先頭に「`#`」を付けて（コメント化して）一時的に除外することを「コメントアウト」と呼ぶ\n",
    "*  コメントアウトは，すでに記述されたコードを完全に削除するのではなく一時的に無効化し，動作などを確認する場合に行われる\n",
    "*  `[Ctrl] + [/]`でコメントアウトの設定・解除ができる"
   ]
  },
  {
   "cell_type": "code",
   "execution_count": 2,
   "metadata": {
    "id": "hnuuD2WYFQpZ"
   },
   "outputs": [
    {
     "name": "stdout",
     "output_type": "stream",
     "text": [
      "Hello World!\n"
     ]
    }
   ],
   "source": [
    "# printは括弧内で指定したデータを表示する関数\n",
    "print('Hello World!')"
   ]
  },
  {
   "cell_type": "markdown",
   "metadata": {},
   "source": [
    "# ノートブックの保存\n",
    "*  ノートブックは，`[Ctrl] + [S]` で手動保存できる\n",
    "*  なお，ノートブックは適当なタイミングで自動保存される\n",
    "*  メニューの右に「すべての変更を保存しました」と表示されていれば，現在の状態が保存されているので，手動保存する必要はない"
   ]
  },
  {
   "cell_type": "markdown",
   "metadata": {},
   "source": [
    "# ノートブックの設定\n",
    "![設定1](./fig/01_notebook_setting1.png)  \n",
    "\n",
    "*  ノートブック右上の歯車アイコン（上図赤枠部）をクリックすると，ノートブックの設定画面が表示される\n",
    "*  「エディタ」の設定を以下のようにしておく（下図参照）\n",
    ">*  **「インデント幅（スペース）」を「4」にする**\n",
    ">*  **「縦の罫線列」を「120」にする**\n",
    ">*  **「行番号を表示」にチェックを入れる**\n",
    ">*  **「インデントガイドの表示」にチェックを入れる**\n",
    "*  他の設定は任意（特に変更しなくてよい）\n",
    "*  設定が完了したら「保存」をクリックする  \n",
    "  \n",
    "![設定2](./fig/01_notebook_setting2.png)"
   ]
  },
  {
   "cell_type": "markdown",
   "metadata": {},
   "source": [
    "# よく使うショートカットキー\n",
    "*  セルに対する基本的な操作には，ショートカットキーが割り当てられている\n",
    "*  多くのショートカットキーが2段階になっている\n",
    "*  まず `[Ctrl] + [M]` を押してから，それぞれの機能によって異なるコマンド（キー）を入力する\n",
    "\n",
    "| 説明                 | コマンド      |\n",
    "|:---|:---|\n",
    "| テキストセルへ変更 | `[Ctrl] + [M] → [M]` |\n",
    "| コードセルへ変更     | `[Ctrl] + [M] → [Y]` |\n",
    "| コードの実行           | `[Ctrl] + [Enter]` |\n",
    "| セルを上に追加       | `[Ctrl] + [M] → [A]` |\n",
    "| セルを下に追加       | `[Ctrl] + [M] → [B]` |\n",
    "| セルのコピー         | `[Ctrl] + [M] → [C]` |\n",
    "| セルの貼り付け       | `[Ctrl] + [M] → [V]` |\n",
    "| セルの消去           | `[Ctrl] + [M] → [D]` |\n",
    "| コメントアウト       | `[Ctrl] + [/]`      |"
   ]
  },
  {
   "cell_type": "markdown",
   "metadata": {
    "id": "unkIYA58Wbu0"
   },
   "source": [
    "# Pythonの基礎"
   ]
  },
  {
   "cell_type": "markdown",
   "metadata": {
    "id": "tad6WvIcWQCb"
   },
   "source": [
    "## 変数\n",
    "* 擬似言語における変数の定義と代入の書式： `データ型: 変数名 ← 値`\n",
    "* Pythonにおける変数の定義と代入の書式： `変数名 = 値`\n",
    "* Pythonにおける変数の定義と代入\n",
    ">* 明示的にデータ型を記述しない\n",
    ">* 変数のみの定義はしない\n",
    ">* 変数の定義と代入はセット\n",
    ">* 代入には「`=`」を使う\n",
    ">* 数学的に `左辺 = 右辺` は，左辺と右辺が等しいという意味を持つが，Python では**左辺の変数に右辺の値を代入する**という意味になる\n",
    "\n",
    "<img src=\"./fig/python_assignments.png\" width=\"380\">"
   ]
  },
  {
   "cell_type": "code",
   "execution_count": null,
   "metadata": {},
   "outputs": [],
   "source": [
    "# 変数aに整数10を代入\n",
    "a = 10"
   ]
  },
  {
   "cell_type": "markdown",
   "metadata": {},
   "source": [
    "## リスト\n",
    "* 一般に，Pythonでは配列を「リスト」と呼ぶ\n",
    "* 角括弧 `[ ]` を使って定義 ⇒ `リスト名＝[要素0, 要素1, 要素2, ...]`\n",
    "* 要素番号は0から開始することに注意\n",
    "\n",
    "<img src=\"./fig/pyhon_list.jpg\" width=\"550\">"
   ]
  },
  {
   "cell_type": "code",
   "execution_count": null,
   "metadata": {},
   "outputs": [],
   "source": [
    "# 5個の整数 74, 68, 92, 59, 77 を要素として持つリスト score を定義\n",
    "score = [74, 68, 92, 59, 77] "
   ]
  },
  {
   "cell_type": "markdown",
   "metadata": {},
   "source": [
    "## Pythonにおける「出力」\n",
    "* 擬似言語における「出力」の記述： `～ を出力する`\n",
    "* Pythonにおける「出力」の記述： `print(～)`\n",
    "* 「～」の部分に文字列や変数を指定する\n",
    "* カンマで区切ることで複数の文字列や変数を指定することもできる\n",
    "* 例（ここで `x` は変数とする）\n",
    ">* 擬似言語： `\"Hello!\" を出力する` ／ Python： `print(\"Hello!\")`\n",
    ">* 擬似言語： `x を出力する` ／ `Python： print(x)`"
   ]
  },
  {
   "cell_type": "markdown",
   "metadata": {
    "id": "HIEQZncB_qjQ"
   },
   "source": [
    "## 算術演算子\n",
    "*  計算（算術演算）するときに使う「`+`」「`-`」「`*`」「`/`」を算術演算子と呼ぶ\n",
    "\n",
    "|算術演算子| 意味 |\n",
    "|:-:|:--|\n",
    "| `+` | 加算 |\n",
    "| `-` | 減算 |\n",
    "| `*` | 乗算 |\n",
    "| `/` | 除算（小数） |\n",
    "| `//` | 除算の商（整数） |\n",
    "| `%` | 除算の余り（整数） |\n",
    "| `**` | べき乗 |\n"
   ]
  },
  {
   "cell_type": "code",
   "execution_count": null,
   "metadata": {},
   "outputs": [
    {
     "data": {
      "text/plain": [
       "2"
      ]
     },
     "execution_count": 3,
     "metadata": {},
     "output_type": "execute_result"
    }
   ],
   "source": [
    "print(1 + 1)\n",
    "print(5.2 - 2)"
   ]
  },
  {
   "cell_type": "markdown",
   "metadata": {
    "id": "_Txf6qipBpMO"
   },
   "source": [
    "## 比較演算子\n",
    "* 2つの値の大小を比較するための演算子\n",
    "* 演算結果は「`True`」と「`False`」のいずれかの値をとる\n",
    "* このような値を論理型（bool）の値と呼ぶ（詳細は後述）\n",
    "* 比較演算子を使った式が正しければ「`True`（真）」で，間違っていれば「`False`（偽）」となる\n",
    "\n",
    "|比較演算子|意味|\n",
    "|:-:|:--|\n",
    "| < | 小さい |\n",
    "| > | 大きい |\n",
    "| <= | 以上 |\n",
    "| >= | 以下 |\n",
    "| == | 等しい |\n",
    "| != | 等しくない |"
   ]
  },
  {
   "cell_type": "code",
   "execution_count": 5,
   "metadata": {},
   "outputs": [
    {
     "name": "stdout",
     "output_type": "stream",
     "text": [
      "False\n",
      "True\n",
      "False\n",
      "True\n",
      "False\n"
     ]
    }
   ],
   "source": [
    "print(10 > 10)\n",
    "print(10 >= 10)\n",
    "print(5 == 2)\n",
    "print(5 != 2)\n",
    "print(1 + 1 == 3)"
   ]
  },
  {
   "cell_type": "markdown",
   "metadata": {
    "id": "9KTTzZwfLf9N"
   },
   "source": [
    "## 論理演算子\n",
    "*  論理演算を行うための演算子\n",
    "*  論理演算はbool（論理型）の値に対する演算\n",
    "*  演算結果はbool（論理型） ⇒ `True`と`False`のいずれか\n",
    "\n",
    "\n",
    "|論理演算子|意味|\n",
    "|:-:|:--|\n",
    "| `and` | 両者を満たす（両者ともTrueの）ときTrue |\n",
    "| `or` | どちらか片方を満たす（少なくともどちらか一方がTrueの）ときTrue |\n",
    "| `not` | 満たさない（Falseの）ときTrue |\n"
   ]
  },
  {
   "cell_type": "markdown",
   "metadata": {},
   "source": [
    "### `and`演算子\n",
    "\n",
    "|`A`|`B`|`A and B`|\n",
    "|:-:|:-:|:-:|\n",
    "| `True` | `True` | `True` | \n",
    "| `True` | `False` | `False` |\n",
    "| `False` | `True` | `False` |\n",
    "| `False` | `False` | `False` |\n",
    "\n",
    "### `or`演算子\n",
    "\n",
    "|`A`|`B`|`A or B`|\n",
    "|:-:|:-:|:-:|\n",
    "| `True` | `True` | `True` | \n",
    "| `True` | `False` | `True` |\n",
    "| `False` | `True` | `True` |\n",
    "| `False` | `False` | `False` |\n",
    "\n",
    "### `not`演算子\n",
    "\n",
    "|`A`|`not A`|\n",
    "|:-:|:-:|\n",
    "| `True` | `False` | \n",
    "| `False` | `True` |"
   ]
  },
  {
   "cell_type": "markdown",
   "metadata": {
    "id": "Ha0SZyH8WlC1"
   },
   "source": [
    "## 条件分岐\n",
    "* 条件分岐とは，ある条件（条件式）を満たす or 満たさないのいずれかで異なる動作をするように制御すること\n",
    "* 条件分岐は`if`文を使って実現する\n",
    "* 擬似言語との違いに注意する\n",
    "* Pythonでは...\n",
    ">* 条件式の後にコロン「`:`」を付ける\n",
    ">* 「`elseif`」は「`elif`」と記述\n",
    ">* 「`endif`」は記述しない\n",
    "\n",
    "<img src=\"./fig/pseudolanguage_vs_python.jpg\" width=\"400\">\n",
    "\n",
    "*  条件分岐では，結果がboolとなる条件式を使う\n",
    "*  条件式が成り立つとき ⇒ `True` （真）\n",
    "*  条件式が成り立たないとき ⇒ `False` （偽）\n",
    "*  条件式には比較演算子，論理演算子などが使われる"
   ]
  },
  {
   "cell_type": "markdown",
   "metadata": {},
   "source": [
    "### 条件分岐のコード例 その1\n",
    "<img src=\"./fig/python_code_sample_if1.jpg\" width=\"450\">"
   ]
  },
  {
   "cell_type": "code",
   "execution_count": 6,
   "metadata": {},
   "outputs": [
    {
     "name": "stdout",
     "output_type": "stream",
     "text": [
      "再試験\n"
     ]
    }
   ],
   "source": [
    "score = 50\n",
    "if score >= 60:\n",
    "\tprint(\"合格\")\n",
    "elif score >= 50:\n",
    "\tprint(\"再試験\")\n",
    "else:\n",
    "\tprint(\"不合格\")"
   ]
  },
  {
   "cell_type": "markdown",
   "metadata": {},
   "source": [
    "### 条件分岐のコード例 その2\n",
    "<img src=\"./fig/python_code_sample_if2.jpg\" width=\"450\">"
   ]
  },
  {
   "cell_type": "code",
   "execution_count": 7,
   "metadata": {},
   "outputs": [
    {
     "name": "stdout",
     "output_type": "stream",
     "text": [
      "3で割り切れる\n"
     ]
    }
   ],
   "source": [
    "n = 12\n",
    "if n % 3 == 0 and n % 5 ==0:\n",
    "\tresult = \"3と5で割り切れる\"\n",
    "elif n % 3 == 0:\n",
    "\tresult = \"3で割り切れる\"\n",
    "elif n % 5 == 0:\n",
    "\tresult = \"5で割り切れる\"\n",
    "else:\n",
    "\t result = \"3でも5でも割り切れない\"\n",
    "print(result)"
   ]
  },
  {
   "cell_type": "markdown",
   "metadata": {
    "id": "BY8Ta_iXW1tk"
   },
   "source": [
    "## 繰り返し\n",
    "*  処理の繰り返しは`for`文を使うことで実現できる\n",
    "*  `for`の直後に半角スペースを入れたあと，繰り返しの処理の中で用いる変数を記述\n",
    "*  その変数の直後に半角スペースを入れたあと，`in`と記述\n",
    "*  `in`の直後に半角スペースを入れたあと，特定の範囲の数値を指定できる`range`関数やリストを記述し，最後にコロン`:`を入れる\n",
    "*  各繰り返しで，`in`の直後で指定した`range`関数やリストの要素が順番に1つずつ変数に格納される\n",
    "*  取り出す要素がなくなったら繰り返しを終了する\n",
    "*  `range`関数の基本形： `range(開始番号, 終了番号+1)`\n",
    "*  `range`関数の例：\n",
    ">* `range(1, 6)` ⇒ `1, 2, 3, 4, 5`\n",
    ">* `range(3, 7)` ⇒ `3, 4, 5, 6`\n",
    "\n",
    "---\n",
    "書式:  \n",
    "```\n",
    "for 変数 in range関数や配列:\n",
    "\t処理\n",
    "```\n",
    "---\n",
    "\n",
    "* 擬似言語との違いに注意する\n",
    "* Pythonでは...\n",
    ">* 制御記述の後にコロン「`:`」を付ける\n",
    ">* 「`endfor`」は記述しない\n",
    "\n",
    "<img src=\"./fig/pseudolanguage_vs_python_for.jpg\" width=\"500\">"
   ]
  },
  {
   "cell_type": "markdown",
   "metadata": {},
   "source": [
    "### 繰り返しのコード例 その1\n",
    "* 「`i in range(a, b)`」の意味 ⇒「`i` を `a` から `b-1` まで `1` ずつ増やす」 \n",
    "* 「`i, end=\" \"`」の意味 ⇒「`i` のうしろに空白を入れる」\n",
    "\n",
    "<img src=\"./fig/python_code_sample_for1.jpg\" width=\"220\">"
   ]
  },
  {
   "cell_type": "code",
   "execution_count": 8,
   "metadata": {
    "id": "IZHkS2iOOzy5"
   },
   "outputs": [
    {
     "name": "stdout",
     "output_type": "stream",
     "text": [
      "1 2 3 4 5 "
     ]
    }
   ],
   "source": [
    "for i in range(1, 6):\n",
    "\tprint(i, end=\" \")"
   ]
  },
  {
   "cell_type": "markdown",
   "metadata": {},
   "source": [
    "### 繰り返しのコード例 その2\n",
    "<img src=\"./fig/python_code_sample_for2.jpg\" width=\"250\">"
   ]
  },
  {
   "cell_type": "code",
   "execution_count": 9,
   "metadata": {
    "id": "Z6bo4M9ffXEk"
   },
   "outputs": [
    {
     "name": "stdout",
     "output_type": "stream",
     "text": [
      "65 82 73 91 76 "
     ]
    }
   ],
   "source": [
    "score = [65, 82, 73, 91, 76]\n",
    "for i in range(0, 5):\n",
    "\tprint(score[i], end=\" \")"
   ]
  }
 ],
 "metadata": {
  "colab": {
   "provenance": []
  },
  "kernelspec": {
   "display_name": "pythonv311",
   "language": "python",
   "name": "python3"
  },
  "language_info": {
   "codemirror_mode": {
    "name": "ipython",
    "version": 3
   },
   "file_extension": ".py",
   "mimetype": "text/x-python",
   "name": "python",
   "nbconvert_exporter": "python",
   "pygments_lexer": "ipython3",
   "version": "3.11.5"
  }
 },
 "nbformat": 4,
 "nbformat_minor": 0
}
